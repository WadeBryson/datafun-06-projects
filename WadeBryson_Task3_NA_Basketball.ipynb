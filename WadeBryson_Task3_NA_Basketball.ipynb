{
 "cells": [
  {
   "attachments": {},
   "cell_type": "markdown",
   "metadata": {},
   "source": [
    "#### Author: Wade Bryson\n",
    "#### GitHub: https://github.com/WadeBryson\n",
    "#### Class: 44-608 Data Analytics Fundamentals\n",
    "#### Module 6 Project 6: Tell Your Own Story with Data"
   ]
  },
  {
   "attachments": {},
   "cell_type": "markdown",
   "metadata": {},
   "source": [
    "# **<p style=\"text-align: center;\">North Andrew Boys Basketball</p>**\n",
    "### *<p style=\"text-align: center;\">An Analysis of the Impact of the Post-Hudl Era Statistics</p>*\n",
    "***"
   ]
  },
  {
   "attachments": {},
   "cell_type": "markdown",
   "metadata": {},
   "source": [
    "## **North Andrew Background Information**"
   ]
  },
  {
   "attachments": {},
   "cell_type": "markdown",
   "metadata": {},
   "source": [
    "<img align=\"right\" width=\"125\" height=\"125\" src=\"https://static.hudl.com/users/temp/5021822_b3d38657e36a4706b8bff82999688cdc.gif\">\n",
    "\n",
    "#### North Andrew is a small school district located along Highway 71 at Rosendale, MO. North Andrew’s constituents live in the small towns of Bolckow, Rosendale, Fillmore, and their surrounding rural areas. North Andrew’s Boys Basketball program has season statistics dating back to 1967. North Andrew kept primitive, basic stats for years but their ability to keep and analyze their stats improved dramatically in the 2014-2015 season when they purchased Hudl. Hudl is a subscription based service that ties real time data analysis with video footage and produces advanced statistics that are easily accessible. With all of this information readily available, high school programs that have found ways to read, analyze, and then implement strategies using their statistics have thrived.\n",
    "\n"
   ]
  },
  {
   "attachments": {},
   "cell_type": "markdown",
   "metadata": {},
   "source": [
    "## **Part 1 - Initial Look at Data Set**"
   ]
  },
  {
   "attachments": {},
   "cell_type": "markdown",
   "metadata": {},
   "source": [
    "#### For years North Andrew only kept track of points scored, three pointers made, and free throws. Now, with help from Hudl, we keep track of all kinds of different statistics. Let’s take a look at the Post-Hudl Era Database below."
   ]
  },
  {
   "cell_type": "code",
   "execution_count": 3,
   "metadata": {},
   "outputs": [
    {
     "data": {
      "text/html": [
       "<div>\n",
       "<style scoped>\n",
       "    .dataframe tbody tr th:only-of-type {\n",
       "        vertical-align: middle;\n",
       "    }\n",
       "\n",
       "    .dataframe tbody tr th {\n",
       "        vertical-align: top;\n",
       "    }\n",
       "\n",
       "    .dataframe thead th {\n",
       "        text-align: right;\n",
       "    }\n",
       "</style>\n",
       "<table border=\"1\" class=\"dataframe\">\n",
       "  <thead>\n",
       "    <tr style=\"text-align: right;\">\n",
       "      <th></th>\n",
       "      <th>Athletes</th>\n",
       "      <th>Year</th>\n",
       "      <th>Grade</th>\n",
       "      <th>GP</th>\n",
       "      <th>eFG%</th>\n",
       "      <th>VPS</th>\n",
       "      <th>FGM</th>\n",
       "      <th>FGA</th>\n",
       "      <th>FG%</th>\n",
       "      <th>2FGM</th>\n",
       "      <th>2FGA</th>\n",
       "      <th>2FG%</th>\n",
       "      <th>3FGM</th>\n",
       "      <th>3FGA</th>\n",
       "      <th>3FG%</th>\n",
       "      <th>FTM</th>\n",
       "      <th>FTA</th>\n",
       "      <th>FT%</th>\n",
       "      <th>PF</th>\n",
       "      <th>PPG</th>\n",
       "      <th>+/-</th>\n",
       "      <th>MINS</th>\n",
       "      <th>SCP</th>\n",
       "      <th>PiP</th>\n",
       "      <th>OREB</th>\n",
       "      <th>DREB</th>\n",
       "      <th>REB</th>\n",
       "      <th>AST</th>\n",
       "      <th>TO</th>\n",
       "      <th>A/TO</th>\n",
       "      <th>STL</th>\n",
       "      <th>BLK</th>\n",
       "      <th>FOUL</th>\n",
       "      <th>CHG</th>\n",
       "    </tr>\n",
       "  </thead>\n",
       "  <tbody>\n",
       "    <tr>\n",
       "      <th>0</th>\n",
       "      <td>Tanner McDaniel</td>\n",
       "      <td>2020-2021</td>\n",
       "      <td>12th</td>\n",
       "      <td>32</td>\n",
       "      <td>0.61</td>\n",
       "      <td>1.30</td>\n",
       "      <td>273</td>\n",
       "      <td>528</td>\n",
       "      <td>0.52</td>\n",
       "      <td>177</td>\n",
       "      <td>271</td>\n",
       "      <td>0.65</td>\n",
       "      <td>96</td>\n",
       "      <td>257</td>\n",
       "      <td>0.37</td>\n",
       "      <td>95</td>\n",
       "      <td>122</td>\n",
       "      <td>0.78</td>\n",
       "      <td>737</td>\n",
       "      <td>23.0</td>\n",
       "      <td>319</td>\n",
       "      <td>946</td>\n",
       "      <td>82</td>\n",
       "      <td>306</td>\n",
       "      <td>36</td>\n",
       "      <td>78</td>\n",
       "      <td>114</td>\n",
       "      <td>88</td>\n",
       "      <td>114</td>\n",
       "      <td>0.77</td>\n",
       "      <td>66</td>\n",
       "      <td>9</td>\n",
       "      <td>69</td>\n",
       "      <td>0</td>\n",
       "    </tr>\n",
       "    <tr>\n",
       "      <th>1</th>\n",
       "      <td>Levi Linville</td>\n",
       "      <td>2018-2019</td>\n",
       "      <td>12th</td>\n",
       "      <td>25</td>\n",
       "      <td>0.69</td>\n",
       "      <td>1.90</td>\n",
       "      <td>175</td>\n",
       "      <td>254</td>\n",
       "      <td>0.69</td>\n",
       "      <td>175</td>\n",
       "      <td>253</td>\n",
       "      <td>0.69</td>\n",
       "      <td>0</td>\n",
       "      <td>1</td>\n",
       "      <td>0.00</td>\n",
       "      <td>92</td>\n",
       "      <td>146</td>\n",
       "      <td>0.63</td>\n",
       "      <td>442</td>\n",
       "      <td>17.7</td>\n",
       "      <td>349</td>\n",
       "      <td>584</td>\n",
       "      <td>122</td>\n",
       "      <td>346</td>\n",
       "      <td>110</td>\n",
       "      <td>86</td>\n",
       "      <td>196</td>\n",
       "      <td>30</td>\n",
       "      <td>40</td>\n",
       "      <td>0.75</td>\n",
       "      <td>39</td>\n",
       "      <td>9</td>\n",
       "      <td>64</td>\n",
       "      <td>1</td>\n",
       "    </tr>\n",
       "    <tr>\n",
       "      <th>2</th>\n",
       "      <td>Owen Graham</td>\n",
       "      <td>2021-2022</td>\n",
       "      <td>12th</td>\n",
       "      <td>28</td>\n",
       "      <td>0.50</td>\n",
       "      <td>1.69</td>\n",
       "      <td>187</td>\n",
       "      <td>379</td>\n",
       "      <td>0.49</td>\n",
       "      <td>186</td>\n",
       "      <td>367</td>\n",
       "      <td>0.51</td>\n",
       "      <td>1</td>\n",
       "      <td>12</td>\n",
       "      <td>0.08</td>\n",
       "      <td>89</td>\n",
       "      <td>145</td>\n",
       "      <td>0.61</td>\n",
       "      <td>464</td>\n",
       "      <td>16.6</td>\n",
       "      <td>109</td>\n",
       "      <td>861</td>\n",
       "      <td>99</td>\n",
       "      <td>356</td>\n",
       "      <td>97</td>\n",
       "      <td>257</td>\n",
       "      <td>354</td>\n",
       "      <td>113</td>\n",
       "      <td>93</td>\n",
       "      <td>1.22</td>\n",
       "      <td>26</td>\n",
       "      <td>96</td>\n",
       "      <td>68</td>\n",
       "      <td>0</td>\n",
       "    </tr>\n",
       "    <tr>\n",
       "      <th>3</th>\n",
       "      <td>Ryan Hughes</td>\n",
       "      <td>2016-2017</td>\n",
       "      <td>11th</td>\n",
       "      <td>31</td>\n",
       "      <td>0.58</td>\n",
       "      <td>1.90</td>\n",
       "      <td>101</td>\n",
       "      <td>215</td>\n",
       "      <td>0.47</td>\n",
       "      <td>54</td>\n",
       "      <td>113</td>\n",
       "      <td>0.48</td>\n",
       "      <td>47</td>\n",
       "      <td>102</td>\n",
       "      <td>0.46</td>\n",
       "      <td>82</td>\n",
       "      <td>100</td>\n",
       "      <td>0.82</td>\n",
       "      <td>331</td>\n",
       "      <td>10.7</td>\n",
       "      <td>285</td>\n",
       "      <td>376</td>\n",
       "      <td>26</td>\n",
       "      <td>90</td>\n",
       "      <td>12</td>\n",
       "      <td>38</td>\n",
       "      <td>50</td>\n",
       "      <td>145</td>\n",
       "      <td>54</td>\n",
       "      <td>2.69</td>\n",
       "      <td>45</td>\n",
       "      <td>3</td>\n",
       "      <td>25</td>\n",
       "      <td>1</td>\n",
       "    </tr>\n",
       "    <tr>\n",
       "      <th>4</th>\n",
       "      <td>Tanner McDaniel</td>\n",
       "      <td>2019-2020</td>\n",
       "      <td>11th</td>\n",
       "      <td>25</td>\n",
       "      <td>0.51</td>\n",
       "      <td>1.15</td>\n",
       "      <td>166</td>\n",
       "      <td>359</td>\n",
       "      <td>0.46</td>\n",
       "      <td>129</td>\n",
       "      <td>233</td>\n",
       "      <td>0.55</td>\n",
       "      <td>37</td>\n",
       "      <td>126</td>\n",
       "      <td>0.29</td>\n",
       "      <td>72</td>\n",
       "      <td>104</td>\n",
       "      <td>0.69</td>\n",
       "      <td>441</td>\n",
       "      <td>17.6</td>\n",
       "      <td>197</td>\n",
       "      <td>681</td>\n",
       "      <td>51</td>\n",
       "      <td>216</td>\n",
       "      <td>50</td>\n",
       "      <td>75</td>\n",
       "      <td>125</td>\n",
       "      <td>68</td>\n",
       "      <td>80</td>\n",
       "      <td>0.85</td>\n",
       "      <td>44</td>\n",
       "      <td>21</td>\n",
       "      <td>72</td>\n",
       "      <td>0</td>\n",
       "    </tr>\n",
       "    <tr>\n",
       "      <th>5</th>\n",
       "      <td>Braxon Linville</td>\n",
       "      <td>2021-2022</td>\n",
       "      <td>9th</td>\n",
       "      <td>26</td>\n",
       "      <td>0.51</td>\n",
       "      <td>1.12</td>\n",
       "      <td>104</td>\n",
       "      <td>213</td>\n",
       "      <td>0.49</td>\n",
       "      <td>96</td>\n",
       "      <td>192</td>\n",
       "      <td>0.50</td>\n",
       "      <td>8</td>\n",
       "      <td>21</td>\n",
       "      <td>0.38</td>\n",
       "      <td>67</td>\n",
       "      <td>110</td>\n",
       "      <td>0.61</td>\n",
       "      <td>283</td>\n",
       "      <td>10.9</td>\n",
       "      <td>144</td>\n",
       "      <td>746</td>\n",
       "      <td>49</td>\n",
       "      <td>192</td>\n",
       "      <td>80</td>\n",
       "      <td>79</td>\n",
       "      <td>159</td>\n",
       "      <td>49</td>\n",
       "      <td>78</td>\n",
       "      <td>0.63</td>\n",
       "      <td>23</td>\n",
       "      <td>0</td>\n",
       "      <td>53</td>\n",
       "      <td>1</td>\n",
       "    </tr>\n",
       "    <tr>\n",
       "      <th>6</th>\n",
       "      <td>Caleb Patterson</td>\n",
       "      <td>2016-2017</td>\n",
       "      <td>11th</td>\n",
       "      <td>29</td>\n",
       "      <td>0.60</td>\n",
       "      <td>1.66</td>\n",
       "      <td>153</td>\n",
       "      <td>259</td>\n",
       "      <td>0.59</td>\n",
       "      <td>151</td>\n",
       "      <td>254</td>\n",
       "      <td>0.59</td>\n",
       "      <td>2</td>\n",
       "      <td>5</td>\n",
       "      <td>0.40</td>\n",
       "      <td>60</td>\n",
       "      <td>97</td>\n",
       "      <td>0.62</td>\n",
       "      <td>368</td>\n",
       "      <td>12.7</td>\n",
       "      <td>308</td>\n",
       "      <td>350</td>\n",
       "      <td>111</td>\n",
       "      <td>292</td>\n",
       "      <td>96</td>\n",
       "      <td>109</td>\n",
       "      <td>205</td>\n",
       "      <td>36</td>\n",
       "      <td>30</td>\n",
       "      <td>1.20</td>\n",
       "      <td>33</td>\n",
       "      <td>17</td>\n",
       "      <td>71</td>\n",
       "      <td>2</td>\n",
       "    </tr>\n",
       "  </tbody>\n",
       "</table>\n",
       "</div>"
      ],
      "text/plain": [
       "          Athletes       Year Grade  GP  eFG%   VPS  FGM  FGA   FG%  2FGM  \\\n",
       "0  Tanner McDaniel  2020-2021  12th  32  0.61  1.30  273  528  0.52   177   \n",
       "1    Levi Linville  2018-2019  12th  25  0.69  1.90  175  254  0.69   175   \n",
       "2      Owen Graham  2021-2022  12th  28  0.50  1.69  187  379  0.49   186   \n",
       "3      Ryan Hughes  2016-2017  11th  31  0.58  1.90  101  215  0.47    54   \n",
       "4  Tanner McDaniel  2019-2020  11th  25  0.51  1.15  166  359  0.46   129   \n",
       "5  Braxon Linville  2021-2022   9th  26  0.51  1.12  104  213  0.49    96   \n",
       "6  Caleb Patterson  2016-2017  11th  29  0.60  1.66  153  259  0.59   151   \n",
       "\n",
       "   2FGA  2FG%  3FGM  3FGA  3FG%  FTM  FTA   FT%   PF   PPG  +/-  MINS  SCP  \\\n",
       "0   271  0.65    96   257  0.37   95  122  0.78  737  23.0  319   946   82   \n",
       "1   253  0.69     0     1  0.00   92  146  0.63  442  17.7  349   584  122   \n",
       "2   367  0.51     1    12  0.08   89  145  0.61  464  16.6  109   861   99   \n",
       "3   113  0.48    47   102  0.46   82  100  0.82  331  10.7  285   376   26   \n",
       "4   233  0.55    37   126  0.29   72  104  0.69  441  17.6  197   681   51   \n",
       "5   192  0.50     8    21  0.38   67  110  0.61  283  10.9  144   746   49   \n",
       "6   254  0.59     2     5  0.40   60   97  0.62  368  12.7  308   350  111   \n",
       "\n",
       "   PiP  OREB  DREB  REB  AST   TO  A/TO  STL  BLK  FOUL  CHG  \n",
       "0  306    36    78  114   88  114  0.77   66    9    69    0  \n",
       "1  346   110    86  196   30   40  0.75   39    9    64    1  \n",
       "2  356    97   257  354  113   93  1.22   26   96    68    0  \n",
       "3   90    12    38   50  145   54  2.69   45    3    25    1  \n",
       "4  216    50    75  125   68   80  0.85   44   21    72    0  \n",
       "5  192    80    79  159   49   78  0.63   23    0    53    1  \n",
       "6  292    96   109  205   36   30  1.20   33   17    71    2  "
      ]
     },
     "execution_count": 3,
     "metadata": {},
     "output_type": "execute_result"
    }
   ],
   "source": [
    "import pandas as pd\n",
    "Hudl_Era = pd.read_csv('Post_Hudl_Era_Stats.csv')\n",
    "\n",
    "# By default pandas only shows a few columns on the right and a few at the end. We want to change the default settings so it shows all columns.\n",
    "pd.set_option('display.max_columns', None)\n",
    "Hudl_Era.head(7)"
   ]
  },
  {
   "cell_type": "code",
   "execution_count": 4,
   "metadata": {},
   "outputs": [
    {
     "name": "stdout",
     "output_type": "stream",
     "text": [
      "Number of Athletes: 144\n",
      "Number of Columns: 34\n"
     ]
    }
   ],
   "source": [
    "# Displaying the amount of athletes in the Database (# Rows)\n",
    "numb_athletes = len(Hudl_Era)\n",
    "print (\"Number of Athletes:\", numb_athletes)\n",
    "\n",
    "# Displaying the amount of columns in the Database\n",
    "numb_columns = len(Hudl_Era.columns)\n",
    "print (\"Number of Columns:\", numb_columns)"
   ]
  },
  {
   "attachments": {},
   "cell_type": "markdown",
   "metadata": {},
   "source": [
    "#### The Post-Hudl Era Database has three columns containing categorical information about a player; their name, the year, and their grade. It also has 31 columns containing different numeric statistics accumulated throughout the season. This drastic increase in information available has forever changed the North Andrew Boys’ Basketball Program."
   ]
  },
  {
   "attachments": {},
   "cell_type": "markdown",
   "metadata": {},
   "source": [
    "## **Part 2 - Impact of Modern Statistics**"
   ]
  },
  {
   "attachments": {},
   "cell_type": "markdown",
   "metadata": {},
   "source": [
    "### **Value Points System (VPS)** "
   ]
  },
  {
   "attachments": {},
   "cell_type": "markdown",
   "metadata": {},
   "source": [
    "#### Let’s now dive into some of the new advanced statistics that we track. The first one we will focus on is the Value Points System, “VPS”. The Value Points System gives points for statistics that are widely accepted as being positive outcomes (Points + Rebounds + 2*(Assists + Charges + Steals + Blocks)). It then divides this number by a number that gives points for negative statistics (FT Misses + 2*(Misses + Fouls + Turnovers)). With this formula a VPS of 1 is considered average. Let’s look at some basic statistics with the North Andrew Boys’ Basketball Program and our VPS."
   ]
  },
  {
   "cell_type": "code",
   "execution_count": 5,
   "metadata": {},
   "outputs": [
    {
     "data": {
      "text/plain": [
       "count    144.00\n",
       "mean       1.20\n",
       "std        0.96\n",
       "min        0.00\n",
       "25%        0.88\n",
       "50%        1.12\n",
       "75%        1.37\n",
       "max        9.00\n",
       "Name: VPS, dtype: float64"
      ]
     },
     "execution_count": 5,
     "metadata": {},
     "output_type": "execute_result"
    }
   ],
   "source": [
    "# Setting the precision to 2 decimal places\n",
    "pd.set_option(\"display.precision\", 2)\n",
    "\n",
    "Hudl_Era['VPS'].describe()"
   ]
  },
  {
   "attachments": {},
   "cell_type": "markdown",
   "metadata": {},
   "source": [
    "#### As with most statistics, there are some flaws with the Value Points System. Athletes that play very little minutes can really have their VPS score inflated. Overall, both of our mean and median are pretty significantly above the standardized average of 1.0 which is really good.\n"
   ]
  },
  {
   "attachments": {},
   "cell_type": "markdown",
   "metadata": {},
   "source": [
    "### **Effective Field Goal Percentage (eFG%)**"
   ]
  },
  {
   "attachments": {},
   "cell_type": "markdown",
   "metadata": {},
   "source": [
    "#### At North Andrew, we **LOVE** the 3-Point Shot. Let’s take a look at our individual 3-point shooting totals."
   ]
  },
  {
   "cell_type": "code",
   "execution_count": 6,
   "metadata": {},
   "outputs": [
    {
     "data": {
      "image/png": "[encoded data removed]",
      "text/plain": [
       "<Figure size 640x480 with 1 Axes>"
      ]
     },
     "metadata": {},
     "output_type": "display_data"
    }
   ],
   "source": [
    "%matplotlib inline\n",
    "histogram = Hudl_Era[\"3FGM\"].hist()"
   ]
  },
  {
   "attachments": {},
   "cell_type": "markdown",
   "metadata": {},
   "source": [
    "#### Notice that a majority of our athletes don't make a large amount of 3s, but the ones that do are making them at a very high rate. There are all kinds of studies out there that prove the value of the 3-point shot to your basketball program and I won't spend a whole bunch of time elaborating on it. But they all break down to the following fact: Shooting a 3 at 33.3% is equivalent in points per shot to shooting a 2 at 50%. This leads me to another advanced statistic that I love, **eFG%**. **Effective Field Goal Percentage** takes into account that a 3-point shot is worth more than a 2-point shot and it adjusts the percent to accomodate for that. Let's look at the best season long eFG% from our athletes in the Post-Hudl Era."
   ]
  },
  {
   "cell_type": "code",
   "execution_count": 7,
   "metadata": {},
   "outputs": [
    {
     "data": {
      "text/html": [
       "<div>\n",
       "<style scoped>\n",
       "    .dataframe tbody tr th:only-of-type {\n",
       "        vertical-align: middle;\n",
       "    }\n",
       "\n",
       "    .dataframe tbody tr th {\n",
       "        vertical-align: top;\n",
       "    }\n",
       "\n",
       "    .dataframe thead th {\n",
       "        text-align: right;\n",
       "    }\n",
       "</style>\n",
       "<table border=\"1\" class=\"dataframe\">\n",
       "  <thead>\n",
       "    <tr style=\"text-align: right;\">\n",
       "      <th></th>\n",
       "      <th>Athletes</th>\n",
       "      <th>Year</th>\n",
       "      <th>Grade</th>\n",
       "      <th>PPG</th>\n",
       "      <th>eFG%</th>\n",
       "      <th>FG%</th>\n",
       "      <th>2FG%</th>\n",
       "      <th>3FG%</th>\n",
       "    </tr>\n",
       "  </thead>\n",
       "  <tbody>\n",
       "    <tr>\n",
       "      <th>1</th>\n",
       "      <td>Levi Linville</td>\n",
       "      <td>2018-2019</td>\n",
       "      <td>12th</td>\n",
       "      <td>17.7</td>\n",
       "      <td>0.69</td>\n",
       "      <td>0.69</td>\n",
       "      <td>0.69</td>\n",
       "      <td>0.00</td>\n",
       "    </tr>\n",
       "    <tr>\n",
       "      <th>56</th>\n",
       "      <td>Levi Linville</td>\n",
       "      <td>2017-2018</td>\n",
       "      <td>11th</td>\n",
       "      <td>2.6</td>\n",
       "      <td>0.66</td>\n",
       "      <td>0.66</td>\n",
       "      <td>0.66</td>\n",
       "      <td>0.00</td>\n",
       "    </tr>\n",
       "    <tr>\n",
       "      <th>60</th>\n",
       "      <td>Levi Linville</td>\n",
       "      <td>2016-2017</td>\n",
       "      <td>10th</td>\n",
       "      <td>2.5</td>\n",
       "      <td>0.65</td>\n",
       "      <td>0.65</td>\n",
       "      <td>0.65</td>\n",
       "      <td>0.00</td>\n",
       "    </tr>\n",
       "    <tr>\n",
       "      <th>17</th>\n",
       "      <td>Aidan DeLong</td>\n",
       "      <td>2016-2017</td>\n",
       "      <td>11th</td>\n",
       "      <td>11.7</td>\n",
       "      <td>0.63</td>\n",
       "      <td>0.62</td>\n",
       "      <td>0.63</td>\n",
       "      <td>0.40</td>\n",
       "    </tr>\n",
       "    <tr>\n",
       "      <th>47</th>\n",
       "      <td>Ryan Shultz</td>\n",
       "      <td>2017-2018</td>\n",
       "      <td>12th</td>\n",
       "      <td>4.0</td>\n",
       "      <td>0.62</td>\n",
       "      <td>0.60</td>\n",
       "      <td>0.62</td>\n",
       "      <td>0.38</td>\n",
       "    </tr>\n",
       "    <tr>\n",
       "      <th>67</th>\n",
       "      <td>Keenan Shunk</td>\n",
       "      <td>2018-2019</td>\n",
       "      <td>11th</td>\n",
       "      <td>2.1</td>\n",
       "      <td>0.62</td>\n",
       "      <td>0.62</td>\n",
       "      <td>0.73</td>\n",
       "      <td>0.00</td>\n",
       "    </tr>\n",
       "    <tr>\n",
       "      <th>0</th>\n",
       "      <td>Tanner McDaniel</td>\n",
       "      <td>2020-2021</td>\n",
       "      <td>12th</td>\n",
       "      <td>23.0</td>\n",
       "      <td>0.61</td>\n",
       "      <td>0.52</td>\n",
       "      <td>0.65</td>\n",
       "      <td>0.37</td>\n",
       "    </tr>\n",
       "    <tr>\n",
       "      <th>13</th>\n",
       "      <td>Lance Streeby</td>\n",
       "      <td>2017-2018</td>\n",
       "      <td>12th</td>\n",
       "      <td>11.1</td>\n",
       "      <td>0.61</td>\n",
       "      <td>0.52</td>\n",
       "      <td>0.64</td>\n",
       "      <td>0.39</td>\n",
       "    </tr>\n",
       "    <tr>\n",
       "      <th>6</th>\n",
       "      <td>Caleb Patterson</td>\n",
       "      <td>2016-2017</td>\n",
       "      <td>11th</td>\n",
       "      <td>12.7</td>\n",
       "      <td>0.60</td>\n",
       "      <td>0.59</td>\n",
       "      <td>0.59</td>\n",
       "      <td>0.40</td>\n",
       "    </tr>\n",
       "    <tr>\n",
       "      <th>11</th>\n",
       "      <td>Ryan Hughes</td>\n",
       "      <td>2017-2018</td>\n",
       "      <td>12th</td>\n",
       "      <td>9.7</td>\n",
       "      <td>0.60</td>\n",
       "      <td>0.49</td>\n",
       "      <td>0.53</td>\n",
       "      <td>0.44</td>\n",
       "    </tr>\n",
       "  </tbody>\n",
       "</table>\n",
       "</div>"
      ],
      "text/plain": [
       "           Athletes       Year Grade   PPG  eFG%   FG%  2FG%  3FG%\n",
       "1     Levi Linville  2018-2019  12th  17.7  0.69  0.69  0.69  0.00\n",
       "56    Levi Linville  2017-2018  11th   2.6  0.66  0.66  0.66  0.00\n",
       "60    Levi Linville  2016-2017  10th   2.5  0.65  0.65  0.65  0.00\n",
       "17     Aidan DeLong  2016-2017  11th  11.7  0.63  0.62  0.63  0.40\n",
       "47      Ryan Shultz  2017-2018  12th   4.0  0.62  0.60  0.62  0.38\n",
       "67     Keenan Shunk  2018-2019  11th   2.1  0.62  0.62  0.73  0.00\n",
       "0   Tanner McDaniel  2020-2021  12th  23.0  0.61  0.52  0.65  0.37\n",
       "13    Lance Streeby  2017-2018  12th  11.1  0.61  0.52  0.64  0.39\n",
       "6   Caleb Patterson  2016-2017  11th  12.7  0.60  0.59  0.59  0.40\n",
       "11      Ryan Hughes  2017-2018  12th   9.7  0.60  0.49  0.53  0.44"
      ]
     },
     "execution_count": 7,
     "metadata": {},
     "output_type": "execute_result"
    }
   ],
   "source": [
    "# Filter athletes out that took less than 15 shots. If we don't do this the last will be dominated by Freshman that went 2 for 2 on the year.\n",
    "eFG_Filtered = Hudl_Era[Hudl_Era['FGA']>= 15]\n",
    "\n",
    "clean_eFG = eFG_Filtered[[\"Athletes\", \"Year\", \"Grade\", \"PPG\", \"eFG%\", \"FG%\", \"2FG%\", \"3FG%\"]]\n",
    "clean_eFG.nlargest(10, 'eFG%')"
   ]
  },
  {
   "attachments": {},
   "cell_type": "markdown",
   "metadata": {},
   "source": [
    "#### Any eFG% over 0.50 is considered really good for the high school level. The higher your effective field goal percentage, the more shots we want you to take. "
   ]
  },
  {
   "attachments": {},
   "cell_type": "markdown",
   "metadata": {},
   "source": [
    "### **Plus/Minus (+/-)**"
   ]
  },
  {
   "attachments": {},
   "cell_type": "markdown",
   "metadata": {},
   "source": [
    "#### Now let's take a look at **MY FAVORITE** stat, plus-minus. Plus-minus is an integer that represents the score differential while an athlete was on the court. At the small school level, it is not realistic for us to expect every single athlete to be a great scorer, rebounder, or ball handler. But we do expect every athlete to compete and the plus-minus stat is purely a representation of how much we outscored or got outscored while that player was on the floor. Let’s look at the top 10 plus-minus values with North Andrew Boys’ Basketball Program during the Post-Hudl Era."
   ]
  },
  {
   "cell_type": "code",
   "execution_count": 8,
   "metadata": {},
   "outputs": [
    {
     "data": {
      "text/html": [
       "<div>\n",
       "<style scoped>\n",
       "    .dataframe tbody tr th:only-of-type {\n",
       "        vertical-align: middle;\n",
       "    }\n",
       "\n",
       "    .dataframe tbody tr th {\n",
       "        vertical-align: top;\n",
       "    }\n",
       "\n",
       "    .dataframe thead th {\n",
       "        text-align: right;\n",
       "    }\n",
       "</style>\n",
       "<table border=\"1\" class=\"dataframe\">\n",
       "  <thead>\n",
       "    <tr style=\"text-align: right;\">\n",
       "      <th></th>\n",
       "      <th>Athletes</th>\n",
       "      <th>Year</th>\n",
       "      <th>Grade</th>\n",
       "      <th>+/-</th>\n",
       "    </tr>\n",
       "  </thead>\n",
       "  <tbody>\n",
       "    <tr>\n",
       "      <th>11</th>\n",
       "      <td>Ryan Hughes</td>\n",
       "      <td>2017-2018</td>\n",
       "      <td>12th</td>\n",
       "      <td>613</td>\n",
       "    </tr>\n",
       "    <tr>\n",
       "      <th>7</th>\n",
       "      <td>Caleb Patterson</td>\n",
       "      <td>2017-2018</td>\n",
       "      <td>12th</td>\n",
       "      <td>583</td>\n",
       "    </tr>\n",
       "    <tr>\n",
       "      <th>19</th>\n",
       "      <td>Jacob Powelson</td>\n",
       "      <td>2017-2018</td>\n",
       "      <td>12th</td>\n",
       "      <td>533</td>\n",
       "    </tr>\n",
       "    <tr>\n",
       "      <th>13</th>\n",
       "      <td>Lance Streeby</td>\n",
       "      <td>2017-2018</td>\n",
       "      <td>12th</td>\n",
       "      <td>530</td>\n",
       "    </tr>\n",
       "    <tr>\n",
       "      <th>40</th>\n",
       "      <td>Cole Thorburn</td>\n",
       "      <td>2017-2018</td>\n",
       "      <td>12th</td>\n",
       "      <td>394</td>\n",
       "    </tr>\n",
       "    <tr>\n",
       "      <th>38</th>\n",
       "      <td>Drake Simmons</td>\n",
       "      <td>2018-2019</td>\n",
       "      <td>12th</td>\n",
       "      <td>390</td>\n",
       "    </tr>\n",
       "    <tr>\n",
       "      <th>1</th>\n",
       "      <td>Levi Linville</td>\n",
       "      <td>2018-2019</td>\n",
       "      <td>12th</td>\n",
       "      <td>349</td>\n",
       "    </tr>\n",
       "    <tr>\n",
       "      <th>53</th>\n",
       "      <td>Aidan DeLong</td>\n",
       "      <td>2017-2018</td>\n",
       "      <td>12th</td>\n",
       "      <td>343</td>\n",
       "    </tr>\n",
       "    <tr>\n",
       "      <th>47</th>\n",
       "      <td>Ryan Shultz</td>\n",
       "      <td>2017-2018</td>\n",
       "      <td>12th</td>\n",
       "      <td>339</td>\n",
       "    </tr>\n",
       "    <tr>\n",
       "      <th>44</th>\n",
       "      <td>Jaden Baker</td>\n",
       "      <td>2018-2019</td>\n",
       "      <td>11th</td>\n",
       "      <td>321</td>\n",
       "    </tr>\n",
       "  </tbody>\n",
       "</table>\n",
       "</div>"
      ],
      "text/plain": [
       "           Athletes       Year Grade  +/-\n",
       "11      Ryan Hughes  2017-2018  12th  613\n",
       "7   Caleb Patterson  2017-2018  12th  583\n",
       "19   Jacob Powelson  2017-2018  12th  533\n",
       "13    Lance Streeby  2017-2018  12th  530\n",
       "40    Cole Thorburn  2017-2018  12th  394\n",
       "38    Drake Simmons  2018-2019  12th  390\n",
       "1     Levi Linville  2018-2019  12th  349\n",
       "53     Aidan DeLong  2017-2018  12th  343\n",
       "47      Ryan Shultz  2017-2018  12th  339\n",
       "44      Jaden Baker  2018-2019  11th  321"
      ]
     },
     "execution_count": 8,
     "metadata": {},
     "output_type": "execute_result"
    }
   ],
   "source": [
    "clean_PM = Hudl_Era[[\"Athletes\", \"Year\", \"Grade\", \"+/-\"]]\n",
    "clean_PM.nlargest(10, '+/-')"
   ]
  },
  {
   "attachments": {},
   "cell_type": "markdown",
   "metadata": {},
   "source": [
    "#### One of the best things about the +/- stat is that it is not heavily swayed by a small sample size unlike several of our other statistics we measure. Notice how 7 of the top 10 values all happened from athletes in the 2017-2018 season. That team had the best record in North Andrew History (29-1). They finished 3rd at the Class 1 Final Four."
   ]
  },
  {
   "attachments": {},
   "cell_type": "markdown",
   "metadata": {},
   "source": [
    "<img align=\"center\" width=\"921\" height=\"483\" src=\"2018-2019.jpg\">\n"
   ]
  },
  {
   "attachments": {},
   "cell_type": "markdown",
   "metadata": {},
   "source": [
    "#### We've looked at VPS, eFG%, and PLus-Minus as a statistic after the season completes. I cannot overstate how important those stats are to our coaching staff in real time during the season. We call all of these advanced statistics \"Winning Statistics\". When we are making playing time or personnel decisions we heavily rely on these \"Winning Statistics\"."
   ]
  },
  {
   "attachments": {},
   "cell_type": "markdown",
   "metadata": {},
   "source": [
    "## **Part 3 - Deep Dive into Plus/Minus**"
   ]
  },
  {
   "attachments": {},
   "cell_type": "markdown",
   "metadata": {},
   "source": [
    "#### In any team sport the most important statistic is whether or not you won the contest. We’ve got multiple stats that we call “Winning Stats”, but the one stat that we keep that resembles winning the closest is **Plus/Minus**. Let’s run a correlation test with every variable in our database and analyze their correlation with the Plus/Minus statistic."
   ]
  },
  {
   "cell_type": "code",
   "execution_count": 9,
   "metadata": {},
   "outputs": [
    {
     "data": {
      "text/plain": [
       "Text(0.5, 1.0, 'Statistics Correlating with +/-')"
      ]
     },
     "execution_count": 9,
     "metadata": {},
     "output_type": "execute_result"
    },
    {
     "data": {
      "image/png": "[encoded data removed]",
      "text/plain": [
       "<Figure size 800x1200 with 2 Axes>"
      ]
     },
     "metadata": {},
     "output_type": "display_data"
    }
   ],
   "source": [
    "# Found this code on: https://medium.com/@szabo.bibor/how-to-create-a-seaborn-correlation-heatmap-in-python-834c0686b88e\n",
    "# Importing libraries needed for heat map\n",
    "import numpy as np\n",
    "import seaborn as sns\n",
    "import matplotlib.pyplot as plt\n",
    "\n",
    "# I am using the filtered DataFrame we created earlier. The Correlations were very different and random when I ran it through the full Dataset.\n",
    "# I need to filter the three string columns out of the DataFrame so we can run the correlation test.\n",
    "corr_Hudl_Era = eFG_Filtered.drop(['Athletes', 'Year', 'Grade'], axis=1)\n",
    "\n",
    "plt.figure(figsize=(8, 12))\n",
    "heatmap = sns.heatmap(corr_Hudl_Era.corr()[['+/-']].sort_values(by='+/-', ascending=False), vmin=-1, vmax=1, annot=True, cmap='BrBG')\n",
    "heatmap.set_title('Statistics Correlating with +/-', fontdict={'fontsize':18}, pad=16)"
   ]
  },
  {
   "attachments": {},
   "cell_type": "markdown",
   "metadata": {},
   "source": [
    "#### Almost all of the statistics have a weak or moderate correlation with +/-. Anything above 0.6 shows a slight correlation but I would like the values to be above 0.7 before I would call it strong. This is not surprising considering there are so many different factors that impact the score of a basketball game and that we have a really small dataset. I would be interested to see what the results would be if we were able to combine our dataset with every other team in the state's information. "
   ]
  },
  {
   "attachments": {},
   "cell_type": "markdown",
   "metadata": {},
   "source": [
    "## **Part 4 - Individual Leaderboards**"
   ]
  },
  {
   "attachments": {},
   "cell_type": "markdown",
   "metadata": {},
   "source": [
    "#### Another focus we have with our Post-Hudl Era Database is creating a top 10 leaderboard for all of the tracked statistics. This allows for more school records and positive individual statistics for our athletes to strive for. Let’s take a look at our top 10 leaderboard for Three Pointers Made in a season."
   ]
  },
  {
   "cell_type": "code",
   "execution_count": 10,
   "metadata": {},
   "outputs": [
    {
     "data": {
      "text/html": [
       "<div>\n",
       "<style scoped>\n",
       "    .dataframe tbody tr th:only-of-type {\n",
       "        vertical-align: middle;\n",
       "    }\n",
       "\n",
       "    .dataframe tbody tr th {\n",
       "        vertical-align: top;\n",
       "    }\n",
       "\n",
       "    .dataframe thead th {\n",
       "        text-align: right;\n",
       "    }\n",
       "</style>\n",
       "<table border=\"1\" class=\"dataframe\">\n",
       "  <thead>\n",
       "    <tr style=\"text-align: right;\">\n",
       "      <th></th>\n",
       "      <th>Athletes</th>\n",
       "      <th>Year</th>\n",
       "      <th>Grade</th>\n",
       "      <th>3FGM</th>\n",
       "    </tr>\n",
       "  </thead>\n",
       "  <tbody>\n",
       "    <tr>\n",
       "      <th>0</th>\n",
       "      <td>Tanner McDaniel</td>\n",
       "      <td>2020-2021</td>\n",
       "      <td>12th</td>\n",
       "      <td>96</td>\n",
       "    </tr>\n",
       "    <tr>\n",
       "      <th>16</th>\n",
       "      <td>Hayden Ecker</td>\n",
       "      <td>2021-2022</td>\n",
       "      <td>11th</td>\n",
       "      <td>62</td>\n",
       "    </tr>\n",
       "    <tr>\n",
       "      <th>26</th>\n",
       "      <td>Hayden Ecker</td>\n",
       "      <td>2022-2023</td>\n",
       "      <td>12th</td>\n",
       "      <td>61</td>\n",
       "    </tr>\n",
       "    <tr>\n",
       "      <th>10</th>\n",
       "      <td>Jaden Baker</td>\n",
       "      <td>2019-2020</td>\n",
       "      <td>12th</td>\n",
       "      <td>55</td>\n",
       "    </tr>\n",
       "    <tr>\n",
       "      <th>3</th>\n",
       "      <td>Ryan Hughes</td>\n",
       "      <td>2016-2017</td>\n",
       "      <td>11th</td>\n",
       "      <td>47</td>\n",
       "    </tr>\n",
       "    <tr>\n",
       "      <th>19</th>\n",
       "      <td>Jacob Powelson</td>\n",
       "      <td>2017-2018</td>\n",
       "      <td>12th</td>\n",
       "      <td>47</td>\n",
       "    </tr>\n",
       "    <tr>\n",
       "      <th>11</th>\n",
       "      <td>Ryan Hughes</td>\n",
       "      <td>2017-2018</td>\n",
       "      <td>12th</td>\n",
       "      <td>43</td>\n",
       "    </tr>\n",
       "    <tr>\n",
       "      <th>13</th>\n",
       "      <td>Lance Streeby</td>\n",
       "      <td>2017-2018</td>\n",
       "      <td>12th</td>\n",
       "      <td>42</td>\n",
       "    </tr>\n",
       "    <tr>\n",
       "      <th>18</th>\n",
       "      <td>Jacob Powelson</td>\n",
       "      <td>2015-2016</td>\n",
       "      <td>10th</td>\n",
       "      <td>42</td>\n",
       "    </tr>\n",
       "    <tr>\n",
       "      <th>25</th>\n",
       "      <td>Jacob Powelson</td>\n",
       "      <td>2014-2015</td>\n",
       "      <td>9th</td>\n",
       "      <td>42</td>\n",
       "    </tr>\n",
       "  </tbody>\n",
       "</table>\n",
       "</div>"
      ],
      "text/plain": [
       "           Athletes       Year Grade  3FGM\n",
       "0   Tanner McDaniel  2020-2021  12th    96\n",
       "16     Hayden Ecker  2021-2022  11th    62\n",
       "26     Hayden Ecker  2022-2023  12th    61\n",
       "10      Jaden Baker  2019-2020  12th    55\n",
       "3       Ryan Hughes  2016-2017  11th    47\n",
       "19   Jacob Powelson  2017-2018  12th    47\n",
       "11      Ryan Hughes  2017-2018  12th    43\n",
       "13    Lance Streeby  2017-2018  12th    42\n",
       "18   Jacob Powelson  2015-2016  10th    42\n",
       "25   Jacob Powelson  2014-2015   9th    42"
      ]
     },
     "execution_count": 10,
     "metadata": {},
     "output_type": "execute_result"
    }
   ],
   "source": [
    "clean_3FGM = Hudl_Era[[\"Athletes\", \"Year\", \"Grade\", \"3FGM\"]]\n",
    "clean_3FGM.nlargest(10, '3FGM')"
   ]
  },
  {
   "attachments": {},
   "cell_type": "markdown",
   "metadata": {},
   "source": [
    "#### Tanner's 2020-2021 season was really special. He was an elite scorer and had unselfish teammates that took pride in getting him open looks. They went on a \"Cinderalla\" run and finished 4th at the Class 2 Final Four. We constantly talk with our athletes about the records from the past they are chasing and how close they are to being on the leaderboard. I have the process we use to promote that mindset below."
   ]
  },
  {
   "cell_type": "code",
   "execution_count": 11,
   "metadata": {},
   "outputs": [
    {
     "name": "stdout",
     "output_type": "stream",
     "text": [
      "How many threes have you made so far? 37\n",
      "You are not quite there yet. Keep working!\n"
     ]
    }
   ],
   "source": [
    "def new_function(threes):\n",
    "    if(threes > 96):\n",
    "        print('Congratulations! You now have the record for most three pointers made in a season!!!')\n",
    "    elif(threes >= 42):\n",
    "        print('Congratulations! You have now made it into the top 10!')\n",
    "    else:\n",
    "        print('You are not quite there yet. Keep working!')\n",
    "\n",
    "print('How many threes have you made so far? 37')    \n",
    "new_function(37)"
   ]
  },
  {
   "attachments": {},
   "cell_type": "markdown",
   "metadata": {},
   "source": [
    "## **Part 5 - Conclusion**"
   ]
  },
  {
   "attachments": {},
   "cell_type": "markdown",
   "metadata": {},
   "source": [
    "#### The purchase of Hudl in the 2014-2015 HS Basketball Season has completely changed our program’s ability to track, analyze, and respond to statistics on a daily basis. Whether you look at our playstyle, our player development plans, in game coaching strategies, or anywhere in between you will see the impact that modern statistics have made on our program. But as every good coach knows, us coaches are nothing without having players that believe in us, each other, and themselves. I owe a big **THANK YOU** to everyone listed below who made this possible!"
   ]
  },
  {
   "cell_type": "code",
   "execution_count": 16,
   "metadata": {},
   "outputs": [
    {
     "name": "stdout",
     "output_type": "stream",
     "text": [
      "['Aidan DeLong', 'Aiden Miller', 'Andrew Goff', 'Ben Roller', 'Blaise Patterson', 'Braxon Linville', 'Brent Windsor', 'Brewer Wheeler', 'Cade Thomas', 'Caden Patterson', 'Caleb Patterson', 'Carson Thomas', 'Christian Patterson', 'Clay White', 'Clayton Linville', 'Cole Thorburn', 'Collin Patterson', 'Couper Simmons', 'Dawson Mercer', 'Derek Mercer', 'Deryk Goff', 'Drake Simmons', 'Grant Lassen', 'Gunnar Rutherford', 'Gunner Hughes', 'Gunner Lawrence', 'Hayden Ecker', 'Hunter Lee', 'Jacob Chittum', 'Jacob Kerns', 'Jacob Powelson', 'Jaden Baker', 'Jarom Russo', 'Jasper Shunk', 'Keaton Hannah', 'Keenan Shunk', 'Khizer Shunk', 'Koven Ehrhardt', 'Kyle Houston', 'Lance Streeby', 'Lane Schuman', 'Levi Linville', 'Lex Shackelford', 'Logan Wilmes', 'Mason Nester', 'Matthew Evans', 'McKinley Lillard', 'Mitchell Officer', 'Newton Shunk', 'Nic Crets', 'Owen Graham', 'Owen Lassen', 'Payton Simmons', 'Ryan Hughes', 'Ryan Shultz', 'Ryan Wilmes', 'Spencer Kuykendall', 'Tanner McDaniel', 'Trevor Madison', 'Trey McDaniel', 'Tucker Graham', 'Tyler Schuman', 'Wyatt Pinion', 'Zach Pittman', 'Zach Smith', 'Zachary Pittman']\n"
     ]
    }
   ],
   "source": [
    "duplicates_name_list = Hudl_Era['Athletes'].tolist()\n",
    "set_name = set(duplicates_name_list)\n",
    "sorted_names = sorted(set_name)\n",
    "\n",
    "print(sorted_names)"
   ]
  },
  {
   "attachments": {},
   "cell_type": "markdown",
   "metadata": {},
   "source": [
    "<img align=\"center\" width=\"913\" height=\"384\" src=\"Champs.jpg\">"
   ]
  },
  {
   "attachments": {},
   "cell_type": "markdown",
   "metadata": {},
   "source": [
    "#### If you made it this far, THANK YOU! Whether you are a fellow basketball coach or a data analyst, our professions are easier when you have peers to collaborate with. Feel free to reach out to me if you have any questions about our implementation of advanced statistics or this dataset. I’d also be more than willing to talk about other ideas that you have or things you have done with your teams.\n",
    "\n",
    "#### Author: Wade Bryson\n",
    "#### Email: wbryson@northandrew.org"
   ]
  }
 ],
 "metadata": {
  "kernelspec": {
   "display_name": ".venv",
   "language": "python",
   "name": "python3"
  },
  "language_info": {
   "codemirror_mode": {
    "name": "ipython",
    "version": 3
   },
   "file_extension": ".py",
   "mimetype": "text/x-python",
   "name": "python",
   "nbconvert_exporter": "python",
   "pygments_lexer": "ipython3",
   "version": "3.11.3"
  },
  "orig_nbformat": 4
 },
 "nbformat": 4,
 "nbformat_minor": 2
}
