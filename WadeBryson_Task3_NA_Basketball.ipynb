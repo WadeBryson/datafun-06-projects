{
 "cells": [
  {
   "attachments": {},
   "cell_type": "markdown",
   "metadata": {},
   "source": [
    "#### Author: Wade Bryson\n",
    "#### GitHub: https://github.com/WadeBryson\n",
    "#### Class: 44-608 Data Analytics Fundamentals\n",
    "#### Module 6 Project 6: Tell Your Own Story with Data"
   ]
  },
  {
   "attachments": {},
   "cell_type": "markdown",
   "metadata": {},
   "source": [
    "# **<p style=\"text-align: center;\">North Andrew Boys Basketball</p>**\n",
    "### *<p style=\"text-align: center;\">A Statistical Analysis of the Post Hudl Era</p>*"
   ]
  },
  {
   "attachments": {},
   "cell_type": "markdown",
   "metadata": {},
   "source": [
    "## **North Andrew Background Information**"
   ]
  },
  {
   "attachments": {},
   "cell_type": "markdown",
   "metadata": {},
   "source": [
    "##### North Andrew is a small school district located along Highway 71 at Rosendale, MO. North Andrew’s constituents live in the small towns of Bolckow, Rosendale, Fillmore, and their surrounding rural areas. North Andrew’s Boys Basketball program has season statistics dating back to 1967. North Andrew kept primitive, basic stats for years but their ability to keep and analyze their stats improved dramatically in the 2014-2015 season when they purchased Hudl. Hudl is a subscription based service that ties real time data analysis with video footage and produces advanced statistics that are easily accessible. With all of this information readily available, high school programs that have found ways to read, analyze, and then implement strategies using their statistics have thrived."
   ]
  }
 ],
 "metadata": {
  "language_info": {
   "name": "python"
  },
  "orig_nbformat": 4
 },
 "nbformat": 4,
 "nbformat_minor": 2
}
